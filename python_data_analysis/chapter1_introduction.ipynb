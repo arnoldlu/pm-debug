{
 "cells": [
  {
   "cell_type": "markdown",
   "metadata": {},
   "source": [
    "# Anaconda环境安装和使用\n",
    "* 更新包：conda upgrade -all\n",
    "* 列出安装包：conda list\n",
    "* 安装包：conda install package(=version)\n",
    "* 删除包：conda remove package\n",
    "* 搜索包名：conda search xxx"
   ]
  },
  {
   "cell_type": "code",
   "execution_count": 2,
   "metadata": {
    "ExecuteTime": {
     "end_time": "2017-10-31T14:33:16.345283Z",
     "start_time": "2017-10-31T14:33:16.334041Z"
    }
   },
   "outputs": [
    {
     "name": "stdout",
     "output_type": "stream",
     "text": [
      "4950\n"
     ]
    }
   ],
   "source": [
    "def sum(n):\n",
    "    ret = 0\n",
    "    for i in range(n):\n",
    "        ret += i\n",
    "    return ret\n",
    "print sum(100)"
   ]
  },
  {
   "cell_type": "markdown",
   "metadata": {},
   "source": [
    "# Python容器"
   ]
  },
  {
   "cell_type": "code",
   "execution_count": 52,
   "metadata": {
    "ExecuteTime": {
     "end_time": "2017-10-31T15:05:54.813910Z",
     "start_time": "2017-10-31T15:05:54.780695Z"
    }
   },
   "outputs": [
    {
     "name": "stdout",
     "output_type": "stream",
     "text": [
      "7\n",
      "1\n",
      "{1: 'one'}\n",
      "[1, 2, 3, 'a']\n",
      "[1, 2, 3, 'a', [4, 5, 6]]\n",
      "[1, 2, 3, 'a', [4, 5, 6], 7, 8, 9]\n",
      "[1, 2, 3, 'a', [4, 5, 6], 7, 8]\n",
      "[1, 2, 3, 8]\n",
      "True\n",
      "['a', 'b', 'c', 'd', 'E', 'F', 'g']\n",
      "a-b-c-d-E-F-g\n",
      "a\n",
      "b\n",
      "c\n",
      "d\n",
      "E\n",
      "F\n",
      "g\n",
      "['b', 'c', 'd', 'E']\n",
      "['d', 'E', 'F', 'g']\n",
      "(1, 2, 3, 'a')\n"
     ]
    }
   ],
   "source": [
    "li = [1, 2, 3, 'abc', 4.5, [2, 3, 4], {1:'one'}]\n",
    "\n",
    "print len(li)\n",
    "print li[0]\n",
    "print li[-1]\n",
    "\n",
    "li = [1, 2, 3]\n",
    "li.append('a')\n",
    "print li\n",
    "li.append([4, 5, 6])\n",
    "print li\n",
    "li.extend([7, 8, 9])\n",
    "print li\n",
    "li.pop()\n",
    "print li\n",
    "del(li[3:6])\n",
    "print li\n",
    "print (8 in li)\n",
    "\n",
    "s = 'abcdefg'\n",
    "li = list(s)\n",
    "li[4] = 'E'\n",
    "li[5] = 'F'\n",
    "print li\n",
    "s='-'.join(li)\n",
    "print s\n",
    "for i in li:\n",
    "    print i\n",
    "    \n",
    "print li[1:5]\n",
    "print li[3:]\n",
    "tuple_data = (1, 2, 3, 'a')\n",
    "print tuple_data\n"
   ]
  },
  {
   "cell_type": "code",
   "execution_count": 40,
   "metadata": {
    "ExecuteTime": {
     "end_time": "2017-10-31T14:57:25.520935Z",
     "start_time": "2017-10-31T14:57:25.494348Z"
    }
   },
   "outputs": [
    {
     "name": "stdout",
     "output_type": "stream",
     "text": [
      "{'a': 1, 2: 'b', 4: 'd', 'c': 3}\n",
      "{'a': 100, 2: 'b', 4: 'd', 'c': 3}\n",
      "{'a': 100, 2: 'b', 'e': 5, 6: 'f', 'c': 3, 4: 'd'}\n",
      "{'e': 5, 6: 'f', 'c': 3, 4: 'd'}\n",
      "True\n",
      "e : 5\n",
      "6 : f\n",
      "c : 3\n",
      "4 : d\n",
      "e : 5\n",
      "6 : f\n",
      "c : 3\n",
      "4 : d\n"
     ]
    }
   ],
   "source": [
    "d = {'a':1, 2:'b', 'c':3, 4:'d'}\n",
    "print d\n",
    "\n",
    "d['a'] = 100\n",
    "print d\n",
    "\n",
    "d['e'] = 5\n",
    "d[6] = 'f'\n",
    "print d\n",
    "\n",
    "del d['a']\n",
    "del d[2]\n",
    "print d\n",
    "\n",
    "print 'e' in d\n",
    "\n",
    "for k in d.keys():\n",
    "    print str(k) + ' : ' + str(d[k])\n",
    "for k, v in d.items():\n",
    "    print str(k), ': ' + str(d[k])"
   ]
  },
  {
   "cell_type": "code",
   "execution_count": 49,
   "metadata": {
    "ExecuteTime": {
     "end_time": "2017-10-31T15:03:49.845486Z",
     "start_time": "2017-10-31T15:03:49.827804Z"
    }
   },
   "outputs": [
    {
     "name": "stdout",
     "output_type": "stream",
     "text": [
      "set([1, 2, 3, 5]) set([1, 3, 4, 5])\n",
      "4\n",
      "set([1, 2, 3, 5, 6, 7, 8, 9])\n",
      "set([1, 2, 3, 5, 6, 7, 8])\n",
      "set([1, 3, 4, 5])\n",
      "set([1, 2, 3, 4, 5, 6, 7, 8])\n",
      "set([1, 3, 5])\n",
      "set([8, 2, 6, 7])\n",
      "set([2, 4, 6, 7, 8])\n"
     ]
    }
   ],
   "source": [
    "s_a = set([1, 2, 3, 5])\n",
    "s_b = set([1, 1, 3, 4, 5])\n",
    "\n",
    "print s_a, s_b\n",
    "\n",
    "print len(s_b)\n",
    "s_a.add(6)\n",
    "s_a.update([5, 6, 7, 8, 9])\n",
    "print s_a\n",
    "s_a.remove(9)\n",
    "print s_a\n",
    "print s_b\n",
    "print s_a | s_b\n",
    "print s_a & s_b\n",
    "print s_a - s_b\n",
    "print s_a^s_b"
   ]
  },
  {
   "cell_type": "code",
   "execution_count": null,
   "metadata": {
    "collapsed": true
   },
   "outputs": [],
   "source": []
  }
 ],
 "metadata": {
  "kernelspec": {
   "display_name": "Python 2",
   "language": "python",
   "name": "python2"
  },
  "language_info": {
   "codemirror_mode": {
    "name": "ipython",
    "version": 2
   },
   "file_extension": ".py",
   "mimetype": "text/x-python",
   "name": "python",
   "nbconvert_exporter": "python",
   "pygments_lexer": "ipython2",
   "version": "2.7.13"
  },
  "toc": {
   "nav_menu": {},
   "number_sections": true,
   "sideBar": true,
   "skip_h1_title": false,
   "toc_cell": false,
   "toc_position": {},
   "toc_section_display": "block",
   "toc_window_display": false
  },
  "varInspector": {
   "cols": {
    "lenName": 16,
    "lenType": 16,
    "lenVar": 40
   },
   "kernels_config": {
    "python": {
     "delete_cmd_postfix": "",
     "delete_cmd_prefix": "del ",
     "library": "var_list.py",
     "varRefreshCmd": "print(var_dic_list())"
    },
    "r": {
     "delete_cmd_postfix": ") ",
     "delete_cmd_prefix": "rm(",
     "library": "var_list.r",
     "varRefreshCmd": "cat(var_dic_list()) "
    }
   },
   "types_to_exclude": [
    "module",
    "function",
    "builtin_function_or_method",
    "instance",
    "_Feature"
   ],
   "window_display": false
  }
 },
 "nbformat": 4,
 "nbformat_minor": 2
}
