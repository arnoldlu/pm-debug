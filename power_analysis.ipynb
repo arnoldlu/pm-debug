{
 "cells": [
  {
   "cell_type": "markdown",
   "metadata": {},
   "source": [
    "# Linux下功耗分析\n",
    "基于Keysight 66319D和Trace进行功耗同步分析"
   ]
  },
  {
   "cell_type": "markdown",
   "metadata": {
    "heading_collapsed": true
   },
   "source": [
    "# 1. 库、开关即变量\n",
    "引用第三方库以及全局开关变量定义。"
   ]
  },
  {
   "cell_type": "code",
   "execution_count": 35,
   "metadata": {
    "ExecuteTime": {
     "end_time": "2017-09-06T08:22:35.726000Z",
     "start_time": "2017-09-06T08:22:35.681000Z"
    },
    "collapsed": true,
    "hidden": true
   },
   "outputs": [],
   "source": [
    "import csv\n",
    "import os\n",
    "import time\n",
    "import visa\n",
    "import matplotlib.pyplot as plt\n",
    "import numpy as np\n",
    "from threading import Thread\n",
    "import threading\n",
    "import pandas as pd\n",
    "from prettytable import PrettyTable\n",
    "\n",
    "import analyze_ftrace as aflib\n",
    "\n",
    "get_ipython().magic(u'matplotlib inline') #Insert matplotlib output as embedded\n",
    "\n",
    "#-------------------------------------------------------------------------------------------\n",
    "#                      Global switch\n",
    "#-------------------------------------------------------------------------------------------\n",
    "aflib.sysvals.ftracefile = 'trace.txt' #As input of trace events\n",
    "aflib.sysvals.csv_output_enable = False #Will dump the details of trace events\n",
    "\n",
    "#Get data from file\n",
    "get_data_from_file = True\n",
    "#Enable debug info\n",
    "debug_extra_info_enable = True\n",
    "\n",
    "enable_power = True\n",
    "\n",
    "#47 zx29_tick_irq\n",
    "#66 zx29dma\n",
    "#68 dwc_otg_pcd\n",
    "#87 spi-nand\n",
    "#108 uart-zx29\n",
    "enable_irq = True\n",
    "filter_irq = ['spi-nand', 'zx29_tick_irq', 'uart-zx29', 'zx29dma'] #Move filter function to filter.sh for temp\n",
    "\n",
    "enable_wakeup = True\n",
    "filter_wakeup = ['nand'] #Move filter function to filter.sh for temp\n",
    "\n",
    "enable_cpuidle = True\n",
    "\n",
    "enable_cpufreq = True\n",
    "\n",
    "#-------------------------------------------------------------------------------------------\n",
    "#                      Global variable\n",
    "#-------------------------------------------------------------------------------------------\n",
    "plot_index = 0\n",
    "power_values = []\n",
    "\n",
    "csv_summary = 'summary.csv'\n",
    "stop_capture = False\n",
    "\n",
    "main_lock = threading.Lock()\n",
    "trace_lock = threading.Lock()\n",
    "power_lock = threading.Lock()\n",
    "trace_measure_start = 0.0\n",
    "trace_measure_end = 0.0\n",
    "power_measure_start = 0.0\n",
    "power_measure_end = 0.0"
   ]
  },
  {
   "cell_type": "markdown",
   "metadata": {},
   "source": [
    "# 2. 获取测试数据\n",
    "读取直流电源数据和抓取Trace events两个子线程。"
   ]
  },
  {
   "cell_type": "markdown",
   "metadata": {
    "heading_collapsed": true
   },
   "source": [
    "## 2.1 获取Trace events\n",
    "此线程用于获取Kernel Trace events，需要和获取功耗线程进行同步。\n",
    "\n",
    "问题列表：\n",
    "\n",
    "<span class=\"mark\">1. USB-ADB接口进入充电模式，导致仪表读数为负。</span><span class=\"girk\">改成串口通信</span>\n",
    "\n",
    "<span class=\"mark\">2. 串口传输文件问题</span>\n",
    "\n",
    "<span class=\"mark\">3. 进入suspend之后，串口输入需要先唤醒</span>\n",
    "\n",
    "<span class=\"mark\">4. PC记录trace_measure_start，之后没有同时Trace打印。</span><span class=\"girk\">主动往trace_marker写入CAPTURE_START/CAPTURE_END</span>\n",
    "\n",
    "<span class=\"mark\">5. 开关机编程</span>\n",
    "\n",
    "<span class=\"mark\">6. USB开关编程</span>\n"
   ]
  },
  {
   "cell_type": "code",
   "execution_count": 36,
   "metadata": {
    "ExecuteTime": {
     "end_time": "2017-09-06T08:22:35.850000Z",
     "start_time": "2017-09-06T08:22:35.728000Z"
    },
    "code_folding": [],
    "collapsed": true,
    "hidden": true
   },
   "outputs": [],
   "source": [
    "#-------------------------------------------------------------------------------------------\n",
    "#                     class TraceThread by ADB\n",
    "#-------------------------------------------------------------------------------------------\n",
    "class TraceThread(Thread):\n",
    "    \"\"\"\n",
    "    A threading example\n",
    "    \"\"\"\n",
    "\n",
    "    #----------------------------------------------------------------------\n",
    "    def __init__(self, name):\n",
    "        \"\"\"Initialize the thread\"\"\"\n",
    "        Thread.__init__(self)\n",
    "        self.name = name\n",
    "        self.start()\n",
    "\n",
    "    #----------------------------------------------------------------------\n",
    "    def run(self):\n",
    "        \"\"\"Run the thread\"\"\"\n",
    "        global trace_lock\n",
    "        global power_lock\n",
    "        global trace_measure_start\n",
    "        global trace_measure_end\n",
    "        \n",
    "        connect_prompt_show = False\n",
    "\n",
    "        trace_events = []\n",
    "\n",
    "        trace_events += ['/power/machine_suspend']\n",
    "\n",
    "        if enable_irq:\n",
    "            trace_events += ['/irq/irq_handler_entry', '/irq/irq_handler_exit']\n",
    "\n",
    "        if enable_wakeup:\n",
    "            trace_events += ['/power/wakeup_source_activate', '/power/wakeup_source_deactivate']\n",
    "\n",
    "        if enable_cpuidle:\n",
    "            trace_events += ['/power/cpu_idle']\n",
    "\n",
    "        if enable_cpufreq:\n",
    "            trace_events += ['/power/cpu_frequency']\n",
    "\n",
    "        while True:\n",
    "            result = os.popen('adb devices')\n",
    "            text = result.read()\n",
    "            if '1234567890ABCDEF' in text:\n",
    "                print 'Devices 1234567890ABCDEF connected'\n",
    "                break\n",
    "            else:\n",
    "                if not connect_prompt_show:\n",
    "                    print 'Please connect devices'\n",
    "                    connect_prompt_show = True\n",
    "            time.sleep(1)\n",
    "\n",
    "        os.popen('adb shell \\\"echo 0 >/sys/kernel/debug/tracing/tracing_on\\\"')  #Turn off tracing\n",
    "        os.popen('adb shell \\\"echo 0 >/sys/kernel/debug/tracing/events/enable\\\"')  #Disable all traceevents\n",
    "        os.popen('adb shell \\\"echo > /sys/kernel/debug/tracing/trace\\\"')  #Clear trace buffer\n",
    "\n",
    "        #Enable power related trace events\n",
    "        for i in trace_events:\n",
    "            result = os.popen('adb shell \\\"echo 1 >/sys/kernel/debug/tracing/events'+i+'/enable\\\"')\n",
    "\n",
    "        #Set tracing buffer size\n",
    "        os.popen('adb shell \\\"echo 4096 >/sys/kernel/debug/tracing/buffer_size_kb\\\"')\n",
    "\n",
    "        #Move filter function to filter.sh for temp\n",
    "        os.popen('adb push filter.sh /')\n",
    "        os.popen('adb shell sh filter.sh')\n",
    "\n",
    "        power_lock.release() #Release power_lock to unlock power thread\n",
    "\n",
    "        #Turn on tracing\n",
    "        trace_measure_start = time.time()*1000\n",
    "        os.popen('adb shell \\\"echo 1 >/sys/kernel/debug/tracing/tracing_on\\\"')\n",
    "        \n",
    "        #IMPORTANT! Make sure sync between tracemeasure_start and trace timestamp\n",
    "        os.popen('adb shell \\\"echo CAPTURE_START >/sys/kernel/debug/tracing/trace_marker\\\"')\n",
    "\n",
    "        trace_lock.acquire() #Wait for power thread to release trace_lock, then stop capturing trace\n",
    "        while True:\n",
    "            result = os.popen('adb devices')\n",
    "            text = result.read()\n",
    "            if '1234567890ABCDEF' in text:\n",
    "                print 'Devices 1234567890ABCDEF connected'\n",
    "                break\n",
    "            else:\n",
    "                print 'Please connect devices'\n",
    "            time.sleep(0.5)\n",
    "\n",
    "        #Save trace evnts\n",
    "        os.popen('adb shell \\\"echo CAPTURE_END >/sys/kernel/debug/tracing/trace_marker\\\"')\n",
    "        os.popen('adb shell \\\"echo 0 >/sys/kernel/debug/tracing/events/enable\\\"')  #Disable all traceevents\n",
    "        trace_measure_end = time.time()*1000\n",
    "        print 'Trace ending(host): %.3f ms' % (trace_measure_end-trace_measure_start)\n",
    "        os.popen('adb shell \\\"cat /sys/kernel/debug/tracing/trace > /trace.txt\\\"')\n",
    "\n",
    "        #Pull trace log\n",
    "        os.popen('adb pull trace.txt')\n",
    "        trace_lock.release()\n",
    "        main_lock.release()"
   ]
  },
  {
   "cell_type": "markdown",
   "metadata": {
    "heading_collapsed": true,
    "slideshow": {
     "slide_type": "skip"
    }
   },
   "source": [
    "## 2.2 获取功耗数据\n",
    "获取功耗数据，以及获取功耗值时的时间戳。\n",
    "\n",
    "问题列表：\n",
    "\n",
    "<span class=\"mark\">1. 目前采样精度12ms左右，更高精度？</span>\n",
    "\n",
    "<span class=\"mark\">2. 功耗时间和Trace时间共轴</span><span class=\"girk\">通过和trace_measure_start对比进行不同时间域转换</span>"
   ]
  },
  {
   "cell_type": "code",
   "execution_count": 37,
   "metadata": {
    "ExecuteTime": {
     "end_time": "2017-09-06T08:22:35.965000Z",
     "start_time": "2017-09-06T08:22:35.852000Z"
    },
    "code_folding": [],
    "collapsed": true,
    "hidden": true,
    "slideshow": {
     "slide_type": "fragment"
    }
   },
   "outputs": [],
   "source": [
    "#-------------------------------------------------------------------------------------------\n",
    "#                     class PowerThread\n",
    "#-------------------------------------------------------------------------------------------\n",
    "class PowerThread(Thread):\n",
    "    \"\"\"\n",
    "    A threading example\n",
    "    \"\"\"\n",
    "\n",
    "    #----------------------------------------------------------------------\n",
    "    def __init__(self, name):\n",
    "        \"\"\"Initialize the thread\"\"\"\n",
    "        Thread.__init__(self)\n",
    "        self.name = name\n",
    "        self.data_array = []\n",
    "        self.start()\n",
    " \n",
    "    #----------------------------------------------------------------------\n",
    "    def run(self):\n",
    "        \"\"\"Run the thread\"\"\"\n",
    "        global trace_lock\n",
    "        global power_lock\n",
    "        global power_measure_start\n",
    "        global power_measure_end\n",
    "\n",
    "        rm = visa.ResourceManager()\n",
    "        res = rm.list_resources()\n",
    "\n",
    "        inst = rm.open_resource(res[-1])\n",
    "\n",
    "        #Set the power supply output\n",
    "        inst.write(\"INST P6V\") # Select +6V output\n",
    "        inst.write(\"VOLT 3.8\") # Set output voltage to 3.8 V\n",
    "        inst.write(\"CURR 2.0\") # Set output current to 2.0 A\n",
    "\n",
    "        # Power off then power on, delay 1 second for stable\n",
    "        inst.write(\"OUTP OFF\")\n",
    "        inst.write(\"OUTP ON\")\n",
    "        time.sleep(0.5)\n",
    "\n",
    "        inst.timeout = 6000\n",
    "        #Sample rate and count\n",
    "        #inst.write('SENS:SWE:TINT 15.6E-6')\n",
    "        inst.write('SENS:SWE:POIN 64')\n",
    "        #inst.write('SENS:WIND:RECT')\n",
    "\n",
    "        power_lock.acquire() #Wait for trace thread to release power_lock\n",
    "        power_measure_start = time.time()*1000\n",
    "        while True:\n",
    "            start = (time.time()*1000 - power_measure_start)\n",
    "            if stop_capture:\n",
    "                break\n",
    "            current = inst.query_ascii_values('MEAS:CURR?', container=np.array)*1000\n",
    "            #if current < 0:\n",
    "             #   print current\n",
    "            self.data_array.append({'start':start, 'current':current})\n",
    "        power_measure_end = time.time()*1000\n",
    "        print 'Power(%d) ending(host): %.3f ms, average:%.3f' % (len(self.data_array), (power_measure_end-power_measure_start), (power_measure_end-power_measure_start)/len(self.data_array))\n",
    "\n",
    "        #inst.write(\"OUTP OFF\")\n",
    "        power_lock.release()\n",
    "        trace_lock.release()"
   ]
  },
  {
   "cell_type": "markdown",
   "metadata": {},
   "source": [
    "# 3. 功耗和Trace的分析与输出\n",
    "从Trace线程和Power线程获取数据，然后进行分析，最后输出图表和总结。"
   ]
  },
  {
   "cell_type": "markdown",
   "metadata": {
    "heading_collapsed": true
   },
   "source": [
    "## 3.1 抓取Trace和Power数据"
   ]
  },
  {
   "cell_type": "code",
   "execution_count": 38,
   "metadata": {
    "ExecuteTime": {
     "end_time": "2017-09-06T08:22:36.449000Z",
     "start_time": "2017-09-06T08:22:35.974000Z"
    },
    "code_folding": [
     1
    ],
    "hidden": true,
    "scrolled": true
   },
   "outputs": [
    {
     "name": "stdout",
     "output_type": "stream",
     "text": [
      "Trace duration(guest): 934008.545  ms\n"
     ]
    }
   ],
   "source": [
    "#================================Capture ftrace and power=================================================\n",
    "if get_data_from_file:\n",
    "    csvfile_power = open('power.csv', 'rb')\n",
    "    csv_reader_power = csv.reader(csvfile_power)\n",
    "    for i in csv_reader_power:\n",
    "        power_values.append({'start':float(i[0]),'current':float(i[1])})\n",
    "    csvfile_power.close()\n",
    "    data = aflib.parseFtraceLog()\n",
    "else:\n",
    "    main_lock.acquire()\n",
    "    trace_lock.acquire()\n",
    "    power_lock.acquire()\n",
    "\n",
    "    rm = visa.ResourceManager()\n",
    "    while True:\n",
    "        res = rm.list_resources()\n",
    "        if res:\n",
    "            break\n",
    "        else:\n",
    "            print 'Please power on 66319D'\n",
    "        time.sleep(5)\n",
    "\n",
    "    power_thread = PowerThread(name='PowerThread')\n",
    "\n",
    "    trace_thread = TraceThread(name='TraceThread')\n",
    "    connect_prompt_show = False\n",
    "\n",
    "    if(raw_input('y to stop:') == 'y'):\n",
    "        while True:\n",
    "            result = os.popen('adb devices')\n",
    "            text = result.read()\n",
    "            if '1234567890ABCDEF' in text:\n",
    "                stop_capture = True\n",
    "                break\n",
    "            else:\n",
    "                if not connect_prompt_show:\n",
    "                    print 'Please connect devices'\n",
    "                    connect_prompt_show = True\n",
    "            time.sleep(0.5)\n",
    "    time.sleep(2)\n",
    "    main_lock.acquire() #Wait for trace thread to finish\n",
    "    \n",
    "    power_values = power_thread.data_array\n",
    "    data = aflib.parseFtraceLog()\n",
    "\n",
    "    #Read power data from Keysight 66319D\n",
    "    power_to_trace_offset = data.start +power_measure_start - trace_measure_start\n",
    "    #print power_to_trace_offset\n",
    "    for i in power_values:\n",
    "        i['start'] += power_to_trace_offset\n",
    "    csvfile_power = open('power.csv', 'wb')\n",
    "    csvwriter_power = csv.writer(csvfile_power)\n",
    "    for i in power_values:\n",
    "        csvwriter_power.writerow([i['start'], i['current']])\n",
    "    csvfile_power.close()\n",
    "#=========================================================================================================\n",
    "\n",
    "data_length = data.end - data.start\n",
    "print 'Trace duration(guest):', data_length, ' ms'\n"
   ]
  },
  {
   "cell_type": "markdown",
   "metadata": {
    "heading_collapsed": true
   },
   "source": [
    "## 3.2 分析数据生成图表"
   ]
  },
  {
   "cell_type": "code",
   "execution_count": 39,
   "metadata": {
    "ExecuteTime": {
     "end_time": "2017-09-06T08:23:06.602000Z",
     "start_time": "2017-09-06T08:22:36.451000Z"
    },
    "code_folding": [
     5,
     32,
     74,
     108,
     141,
     162
    ],
    "hidden": true,
    "scrolled": true
   },
   "outputs": [],
   "source": [
    "fig, ax = plt.subplots()\n",
    "xticks = range(int(data.start/1000)*1000, int(data.end/1000)*1000, 2000)\n",
    "\n",
    "\n",
    "#================================Draw power data==========================================================\n",
    "def power_data_analyze(power_data):\n",
    "    total_power = 0.0\n",
    "    high_start = 0.0\n",
    "    high_count = 0\n",
    "    high_power = 0.0\n",
    "    high_threshhold = 40.0 #if current is higher than high_threshhold\n",
    "    high_point = []\n",
    "\n",
    "    for i in range(len(power_data) - 2):\n",
    "        total_power +=  (power_data[i+1]['start'] - power_data[i]['start'])*power_data[i]['current']\n",
    "        if(power_data[i]['current'] > high_threshhold):\n",
    "            if(high_start == 0.0):\n",
    "                high_start = power_data[i]['start']\n",
    "            high_count+=1\n",
    "            high_power += (power_data[i+1]['start'] - power_data[i]['start'])*power_data[i]['current']\n",
    "        else:\n",
    "            if(high_count >= 20):\n",
    "                high_point.append({'start':high_start, 'duration':(power_data[i]['start']-high_start), 'capacity':high_power})\n",
    "            high_count = 0\n",
    "            high_power = 0.0\n",
    "            high_start = 0.0\n",
    "\n",
    "    average_current = total_power/(power_data[len(power_data)-2]['start'] - power_data[0]['start'])\n",
    "    total_power /= 3600 \n",
    "\n",
    "    return high_point, total_power, average_current\n",
    "\n",
    "if enable_power:\n",
    "    plot_index += 1\n",
    "    ax_run = plt.subplot(6, 1, plot_index)\n",
    "\n",
    "    axes_x = []\n",
    "    axes_y = []\n",
    "\n",
    "    high_point, total_power, average_current = power_data_analyze(power_values)\n",
    "\n",
    "    #highlight high power area, show the consumption and average current\n",
    "    for i in high_point:\n",
    "        plt.axvspan(i['start'], i['start']+i['duration'], ymin=0, ymax=1, color='red', alpha=0.3)\n",
    "        if debug_extra_info_enable:\n",
    "            plt.text(i['start']+i['duration']/2, i['capacity']/i['duration']-15, '%.3f mA' % (i['capacity']/i['duration']), color='red', fontsize=6)\n",
    "            plt.text(i['start']+i['duration']/2, i['capacity']/i['duration']+15, '%.3f uAH' % (i['capacity']/3600), color='red', fontsize=6)\n",
    "\n",
    "\n",
    "    plt.annotate('Capacity: '+('%.3f' % total_power)+' uAH', xy=(power_values[0]['start'], 5), xytext=(power_values[0]['start'], 5), color='red')\n",
    "    plt.annotate('Average: '+('%.3f' % average_current)+' mA', xy=(power_values[0]['start'], 55), xytext=(power_values[0]['start'], 55), color='red')\n",
    "\n",
    "    if data.run:\n",
    "        running = []\n",
    "        broken_bar_y = 0\n",
    "        broken_bar_height = 150\n",
    "        for line in data.run:\n",
    "            running.append([float(line['start']), line['duration']])\n",
    "\n",
    "        plt.broken_barh(running, (broken_bar_y, broken_bar_height), facecolor='green', linewidth=0.1, alpha=0.6)\n",
    "    for i in power_values:\n",
    "        axes_x.append(i['start'])\n",
    "        axes_y.append(i['current'])\t\n",
    "    plt.plot(axes_x, axes_y, linewidth=0.3)\n",
    "    plt.xlabel('time(ms)')\n",
    "    plt.xlim(data.start, data.end)\n",
    "    plt.ylim(-50,)\n",
    "    plt.ylabel('current(mA)')\n",
    "    plt.title('K318 PM')\n",
    "    plt.grid(True)\n",
    "    ax_run.set_xticks(xticks)\n",
    "\n",
    "#================================Draw irq data==========================================================\n",
    "\n",
    "if enable_irq:\n",
    "    plot_index += 1\n",
    "    ax_run = plt.subplot(6, 1, plot_index)\n",
    "\n",
    "    irq_bar_height = 0.2\n",
    "\n",
    "    irq = dict()\n",
    "    irq_keys = []\n",
    "    irq_min = 0.0\n",
    "    for line in data.irq:\n",
    "        if line['name'] not in irq_keys:\n",
    "            irq_keys.append(line['name'])\n",
    "            irq[line['name']] = []\n",
    "        irq[line['name']].append([line['start'], line['duration']])\n",
    "        if irq_min == 0.0:\n",
    "            irq_min = line['start']\n",
    "        elif(irq_min > line['start']):\n",
    "            irq_min = line['start']\n",
    "    for i in irq_keys:\n",
    "        plt.broken_barh(irq[i], (irq_bar_height*(irq_keys.index(i)), irq_bar_height), facecolor='purple', linewidth=0.1)\n",
    "        plt.text(irq_min - 1000, irq_bar_height*(irq_keys.index(i)) + irq_bar_height/2, i, horizontalalignment='right', verticalalignment='center', color='red', fontsize=8)\n",
    "        if debug_extra_info_enable:\n",
    "            for j in irq[i]:\n",
    "                if(j[1] > 1):\n",
    "                    plt.text(j[0]+j[1]/2, irq_bar_height*(irq_keys.index(i)) + irq_bar_height/2, str(i), horizontalalignment='center', verticalalignment='center', fontsize=8)\n",
    "    ax.set_yticklabels(irq_keys)\n",
    "    plt.ylabel('irq')\n",
    "    plt.grid(True)\n",
    "    plt.xlim(data.start, data.end)\n",
    "    ax_run.set_xticks(xticks)\n",
    "\n",
    "#================================Draw wakesource data==========================================================\n",
    "\n",
    "if enable_wakeup:\n",
    "    plot_index += 1\n",
    "    ax_run = plt.subplot(6, 1, plot_index)\n",
    "\n",
    "\n",
    "    wakeup_bar_height = 0.2\n",
    "    wakeup = dict()\n",
    "    wakeup_keys = []\n",
    "    wakeup_min = 0.0\n",
    "    for line in data.wakesource:\n",
    "        if line['name'] not in wakeup_keys:\n",
    "            wakeup_keys.append(line['name'])\n",
    "            wakeup[line['name']] = []\n",
    "        wakeup[line['name']].append([line['start'], line['duration']])\n",
    "        if wakeup_min == 0.0:\n",
    "            wakeup_min = line['start']\n",
    "        elif(wakeup_min > line['start']):\n",
    "            wakeup_min = line['start']\n",
    "\n",
    "    for i in wakeup_keys:\n",
    "        plt.broken_barh(wakeup[i], (wakeup_bar_height*(wakeup_keys.index(i)), wakeup_bar_height), facecolor='magenta', linewidth=0.1)\n",
    "        plt.text(wakeup_min - 1000, wakeup_bar_height*(wakeup_keys.index(i)) + wakeup_bar_height/2, i, horizontalalignment='right', verticalalignment='center', color='red', fontsize=8)\n",
    "        if debug_extra_info_enable:\n",
    "            for j in wakeup[i]:\n",
    "                if(j[1] > 10):\n",
    "                    plt.text(j[0]+j[1]/2, wakeup_bar_height*(wakeup_keys.index(i)) + wakeup_bar_height/2, str(i), horizontalalignment='center', verticalalignment='center', fontsize=8)\n",
    "    plt.ylabel('wakeup')\n",
    "    plt.grid(True)\n",
    "    plt.xlim(data.start, data.end)\n",
    "    ax_run.set_xticks(xticks)\n",
    "\n",
    "#================================Draw cpufidle data==========================================================\n",
    "\n",
    "if enable_cpuidle:\n",
    "    plot_index += 1\n",
    "    ax_run = plt.subplot(6, 1, plot_index)\n",
    "\n",
    "\n",
    "    cpuidle_wfi = []\n",
    "    cpuidle_off = []\n",
    "    for line in data.cpuidle:\n",
    "        if line['state'] == 'WFI':\n",
    "            cpuidle_wfi.append([line['start'], line['duration']])\n",
    "        elif line['state'] == 'OFF':\n",
    "            cpuidle_off.append([line['start'], line['duration']])\n",
    "\n",
    "    plt.broken_barh(cpuidle_wfi, (1, 0.2), facecolor='yellow', linewidth=0.1)\n",
    "    plt.broken_barh(cpuidle_off, (1, 0.2), facecolor='purple', linewidth=0.1)\n",
    "\n",
    "    plt.ylabel('cpuidle(WFI/OFF)')\n",
    "    plt.xlim(data.start, data.end)\n",
    "    ax_run.set_xticks(xticks)\n",
    "\n",
    "#================================Draw cpufreq data==========================================================\n",
    "\n",
    "if enable_cpufreq:\n",
    "    plot_index += 1\n",
    "    ax_run = plt.subplot(6, 1, plot_index)\n",
    "\n",
    "    axes_x = []\n",
    "    axes_y = []\n",
    "    for line in data.cpufreq:\n",
    "        axes_x.append(line['start'])\n",
    "        axes_y.append(line['freq']/1000)\n",
    "\n",
    "    plt.step(axes_x, axes_y, '--', label='cpufreq', where='post')\n",
    "    for i in range(len(axes_x)):\n",
    "        plt.text(axes_x[i], axes_y[i], str(axes_y[i])+'M', horizontalalignment='center', fontsize=8)\n",
    "\n",
    "    plt.ylabel('cpufreq(Mhz)')\n",
    "    plt.grid(True)\n",
    "    plt.xlim(data.start, data.end)\n",
    "    ax_run.set_xticks(xticks)\n",
    "\n",
    "#================================Draw figure================================================================\n",
    "plt.show\n",
    "fig = plt.gcf()\n",
    "fig.set_size_inches(data_length/2000, 12)\n",
    "fig.savefig('power.svg', format='svg', dpi=data_length/1000, bbox_inches='tight')\n"
   ]
  },
  {
   "cell_type": "markdown",
   "metadata": {
    "collapsed": true
   },
   "source": [
    "## 3.3 输出统计信息\n",
    "统计各子项的详细信息，有助于发现问题。"
   ]
  },
  {
   "cell_type": "markdown",
   "metadata": {},
   "source": [
    "### 3.3.1 功耗统计\n",
    "Capacity: 测试周期内总消耗量，单位毫安时\n",
    "\n",
    "Average: 测试周期内平均电流，单位毫安"
   ]
  },
  {
   "cell_type": "code",
   "execution_count": null,
   "metadata": {
    "ExecuteTime": {
     "start_time": "2017-09-06T08:22:35.717Z"
    },
    "code_folding": [
     0
    ]
   },
   "outputs": [],
   "source": [
    "#Summary of Power\n",
    "table_power = PrettyTable()\n",
    "table_power.field_names = ['Item', 'Value']\n",
    "table_power.add_row(['Capaticy(uAH)', total_power])\n",
    "table_power.add_row(['Average(mA)', average_current])\n",
    "print table_power"
   ]
  },
  {
   "cell_type": "markdown",
   "metadata": {},
   "source": [
    "### 3.3.2 唤醒状态统计\n",
    "记录何时唤醒(start)以及唤醒多久(duration)。"
   ]
  },
  {
   "cell_type": "code",
   "execution_count": null,
   "metadata": {
    "ExecuteTime": {
     "start_time": "2017-09-06T08:22:35.719Z"
    },
    "code_folding": [
     0
    ]
   },
   "outputs": [],
   "source": [
    "#Summary of suspend/resume\n",
    "table_run = PrettyTable()\n",
    "table_run.field_names = ['start(ms)', 'duration(ms)']\n",
    "for i in data.run:\n",
    "    table_run.add_row([i['start'], i['duration']])\n",
    "print table_run"
   ]
  },
  {
   "cell_type": "markdown",
   "metadata": {},
   "source": [
    "### 3.3.3 中断统计信息\n",
    "统计每个中断例程执行的时长，通过这些可以发现中断上半部问题(max/mean/std)，以及中断频繁程度(count)。\n",
    "\n",
    "mean：平均值；max：最大值；min：最小值；count：中断数；sum：中断总耗时；std：耗时均方差。"
   ]
  },
  {
   "cell_type": "code",
   "execution_count": null,
   "metadata": {
    "ExecuteTime": {
     "start_time": "2017-09-06T08:22:35.720Z"
    },
    "code_folding": [
     1
    ]
   },
   "outputs": [],
   "source": [
    "#Summary of irq\n",
    "if enable_irq:\n",
    "    table_irq = PrettyTable()\n",
    "    table_irq.field_names = ['name', 'mean', 'max', 'min', 'count', 'sum', 'std']\n",
    "    for i in irq_keys:\n",
    "        irq_statistics = np.array(irq[i])\n",
    "        table_irq.add_row([str(i), '%.3f' % irq_statistics[:, 1].mean(), irq_statistics[:, 1].max(), irq_statistics[:, 1].min(), irq_statistics[:, 1].size, irq_statistics[:, 1].sum(),irq_statistics[:, 1].std()])\n",
    "    print table_irq    \n"
   ]
  },
  {
   "cell_type": "markdown",
   "metadata": {
    "heading_collapsed": true
   },
   "source": [
    "### 3.3.4 唤醒源统计\n",
    "统计唤醒源保持时间，发现是谁导致系统保持唤醒状态。\n",
    "\n",
    "mean：平均值；max：最大值；min：最小值；count：中断数；sum：中断总耗时；std：耗时均方差。"
   ]
  },
  {
   "cell_type": "code",
   "execution_count": null,
   "metadata": {
    "ExecuteTime": {
     "start_time": "2017-09-06T08:22:35.722Z"
    },
    "code_folding": [
     1
    ],
    "hidden": true
   },
   "outputs": [],
   "source": [
    "#Summary of wakesource\n",
    "if enable_wakeup:\n",
    "    table_wakeup = PrettyTable()\n",
    "    table_wakeup.field_names = ['name', 'mean', 'max', 'min', 'count', 'sum', 'std']\n",
    "    for i in wakeup_keys:\n",
    "        wakeup_statistics = np.array(wakeup[i])\n",
    "        table_wakeup.add_row([str(i), '%.3f' % wakeup_statistics[:, 1].mean(), wakeup_statistics[:, 1].max(), wakeup_statistics[:, 1].min(), wakeup_statistics[:, 1].size, wakeup_statistics[:, 1].sum(),wakeup_statistics[:, 1].std()])\n",
    "    print table_wakeup"
   ]
  },
  {
   "cell_type": "markdown",
   "metadata": {
    "heading_collapsed": true
   },
   "source": [
    "### 3.3.5 CPU频率\n",
    "统计频率切换时间以及频率值。"
   ]
  },
  {
   "cell_type": "code",
   "execution_count": null,
   "metadata": {
    "ExecuteTime": {
     "start_time": "2017-09-06T08:22:35.724Z"
    },
    "code_folding": [
     1
    ],
    "hidden": true
   },
   "outputs": [],
   "source": [
    "#Summary of cpufreq\n",
    "if enable_cpufreq:\n",
    "    table_cpufreq = PrettyTable()\n",
    "    table_cpufreq.field_names = ['start', 'freq']\n",
    "    for i in data.cpufreq:\n",
    "        table_cpufreq.add_row([i['start'], i['freq']])\n",
    "    print table_cpufreq"
   ]
  },
  {
   "cell_type": "markdown",
   "metadata": {},
   "source": [
    "### 3.3.6 保存到summary.csv"
   ]
  },
  {
   "cell_type": "code",
   "execution_count": null,
   "metadata": {
    "ExecuteTime": {
     "start_time": "2017-09-06T08:22:35.725Z"
    },
    "code_folding": [
     16,
     25,
     34
    ]
   },
   "outputs": [],
   "source": [
    "file_summary = open(csv_summary, 'wb')\n",
    "writer_summary = csv.writer(file_summary)\n",
    "\n",
    "#Summary of Power\n",
    "writer_summary.writerow(['POWER'])\n",
    "writer_summary.writerow(['Capacity:', str(total_power)+' uAH'])\n",
    "writer_summary.writerow(['Average:', str(average_current)+' mA'])\n",
    "\n",
    "#Summary of suspend/resume\n",
    "writer_summary.writerow('')\n",
    "writer_summary.writerow(['RUN'])\n",
    "writer_summary.writerow(['start(ms)', 'duration(ms)'])\n",
    "for i in data.run:\n",
    "\twriter_summary.writerow([i['start'], i['duration']])\n",
    "\n",
    "#Summary of irq\n",
    "if enable_irq:\n",
    "    writer_summary.writerow('')\n",
    "    writer_summary.writerow(['IRQ'])\n",
    "    writer_summary.writerow(['name', 'mean', 'max', 'min', 'count', 'sum', 'std'])\n",
    "    for i in irq_keys:\n",
    "        irq_statistics = np.array(irq[i])\n",
    "        writer_summary.writerow([str(i), '%.3f' % irq_statistics[:, 1].mean(), irq_statistics[:, 1].max(), irq_statistics[:, 1].min(), irq_statistics[:, 1].size, irq_statistics[:, 1].sum(),irq_statistics[:, 1].std()])\n",
    "\n",
    "#Summary of wakesource\n",
    "if enable_wakeup:\n",
    "    writer_summary.writerow('')\n",
    "    writer_summary.writerow(['Wakesource'])\n",
    "    writer_summary.writerow(['name', 'mean', 'max', 'min', 'count', 'sum', 'std'])\n",
    "    for i in wakeup_keys:\n",
    "        wakeup_statistics = np.array(wakeup[i])\n",
    "        writer_summary.writerow([str(i), '%.3f' % wakeup_statistics[:, 1].mean(), wakeup_statistics[:, 1].max(), wakeup_statistics[:, 1].min(), wakeup_statistics[:, 1].size, wakeup_statistics[:, 1].sum(),wakeup_statistics[:, 1].std()])\n",
    "\n",
    "#Summary of cpufreq\n",
    "if enable_cpufreq:\n",
    "    writer_summary.writerow('')\n",
    "    writer_summary.writerow(['Frequency'])\n",
    "    writer_summary.writerow(['start', 'freq'])\n",
    "    for i in data.cpufreq:\n",
    "        writer_summary.writerow([i['start'], i['freq']])\n",
    "\n",
    "file_summary.close()"
   ]
  },
  {
   "cell_type": "code",
   "execution_count": null,
   "metadata": {
    "collapsed": true
   },
   "outputs": [],
   "source": []
  }
 ],
 "metadata": {
  "celltoolbar": "Raw Cell Format",
  "kernelspec": {
   "display_name": "Python 2",
   "language": "python",
   "name": "python2"
  },
  "language_info": {
   "codemirror_mode": {
    "name": "ipython",
    "version": 2
   },
   "file_extension": ".py",
   "mimetype": "text/x-python",
   "name": "python",
   "nbconvert_exporter": "python",
   "pygments_lexer": "ipython2",
   "version": "2.7.13"
  },
  "toc": {
   "nav_menu": {},
   "number_sections": false,
   "sideBar": true,
   "skip_h1_title": false,
   "toc_cell": false,
   "toc_position": {
    "height": "728px",
    "left": "0px",
    "right": "1191px",
    "top": "106px",
    "width": "249px"
   },
   "toc_section_display": "block",
   "toc_window_display": true
  },
  "varInspector": {
   "cols": {
    "lenName": 16,
    "lenType": 16,
    "lenVar": 40
   },
   "kernels_config": {
    "python": {
     "delete_cmd_postfix": "",
     "delete_cmd_prefix": "del ",
     "library": "var_list.py",
     "varRefreshCmd": "print(var_dic_list())"
    },
    "r": {
     "delete_cmd_postfix": ") ",
     "delete_cmd_prefix": "rm(",
     "library": "var_list.r",
     "varRefreshCmd": "cat(var_dic_list()) "
    }
   },
   "position": {
    "height": "702px",
    "left": "1070px",
    "right": "20px",
    "top": "120px",
    "width": "360px"
   },
   "types_to_exclude": [
    "module",
    "function",
    "builtin_function_or_method",
    "instance",
    "_Feature"
   ],
   "window_display": false
  }
 },
 "nbformat": 4,
 "nbformat_minor": 2
}
